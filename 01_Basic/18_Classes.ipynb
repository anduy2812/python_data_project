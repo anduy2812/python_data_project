{
 "cells": [
  {
   "cell_type": "markdown",
   "metadata": {},
   "source": [
    "# Classes\n",
    "## Python objects\n",
    "### Notes\n",
    "- Python is an object oriented programming language.\n",
    "- Almost everything is an object, with properties and methods.\n",
    "- A **class** is like an object constructor.\n",
    "\n",
    "## Simple example\n",
    "### Create a class\n",
    "Creating a class called MyList"
   ]
  },
  {
   "cell_type": "code",
   "execution_count": 1,
   "metadata": {},
   "outputs": [],
   "source": [
    "class MyList:\n",
    "    def __init__(self):\n",
    "        \"\"\"Initialize an empty list.\"\"\"\n",
    "        self._items = []\n",
    "\n",
    "    def add(self, item):\n",
    "        \"\"\"Add an item to the end of the list.\"\"\"\n",
    "        self._items.append(item)\n",
    "\n",
    "    def __getitem__(self, index):\n",
    "        \"\"\"Retrieve an item by index.\"\"\"\n",
    "        return self._items[index]\n",
    "\n",
    "    def __setitem__(self, index, value):\n",
    "        \"\"\"Set an item at a specific index.\"\"\"\n",
    "        self._items[index] = value\n",
    "\n",
    "    def __repr__(self):\n",
    "        \"\"\"Return a string representation of the list.\"\"\"\n",
    "        return str(self._items)\n",
    "\n",
    "    def __len__(self):\n",
    "        \"\"\"Return the length of the list.\"\"\"\n",
    "        return len(self._items)"
   ]
  },
  {
   "cell_type": "code",
   "execution_count": 2,
   "metadata": {},
   "outputs": [
    {
     "data": {
      "text/plain": [
       "[]"
      ]
     },
     "execution_count": 2,
     "metadata": {},
     "output_type": "execute_result"
    }
   ],
   "source": [
    "my_list = MyList()\n",
    "\n",
    "my_list"
   ]
  },
  {
   "cell_type": "markdown",
   "metadata": {},
   "source": [
    "### Manipulating instance"
   ]
  },
  {
   "cell_type": "code",
   "execution_count": 3,
   "metadata": {},
   "outputs": [
    {
     "data": {
      "text/plain": [
       "['Data Here', 'Finance Nerd']"
      ]
     },
     "execution_count": 3,
     "metadata": {},
     "output_type": "execute_result"
    }
   ],
   "source": [
    "my_list.add(\"Data Here\")\n",
    "my_list.add(\"Finance Nerd\")\n",
    "\n",
    "my_list"
   ]
  },
  {
   "cell_type": "code",
   "execution_count": 5,
   "metadata": {},
   "outputs": [
    {
     "data": {
      "text/plain": [
       "2"
      ]
     },
     "execution_count": 5,
     "metadata": {},
     "output_type": "execute_result"
    }
   ],
   "source": [
    "len(my_list)"
   ]
  },
  {
   "cell_type": "markdown",
   "metadata": {},
   "source": [
    "### Practical Example\n",
    "#### Demonstration\n",
    "Recall back that we had built functions to automate calculating things about a salary."
   ]
  },
  {
   "cell_type": "code",
   "execution_count": 6,
   "metadata": {},
   "outputs": [],
   "source": [
    "class BaseSalary:\n",
    "    def __init__(self, base_salary, rate=0.1, symbol='$'):\n",
    "        self.base_salary = base_salary\n",
    "        self.rate = rate\n",
    "        self.symbol = symbol\n",
    "        self.total_salary = base_salary * (1 + rate)\n",
    "        self.bonus = self.total_salary - base_salary\n",
    "\n",
    "    def __repr__(self):\n",
    "        return f'{self.symbol}{self.base_salary:,.0f}'\n",
    "\n",
    "    def get_total_salary(self):\n",
    "        return f'{self.symbol}{self.total_salary:,.0f}'\n",
    "\n",
    "    def show_bonus(self):\n",
    "        return f'{self.symbol}{self.bonus:,.0f}'"
   ]
  },
  {
   "cell_type": "code",
   "execution_count": 7,
   "metadata": {},
   "outputs": [
    {
     "name": "stdout",
     "output_type": "stream",
     "text": [
      "$110,000\n",
      "$10,000\n",
      "$100,000\n"
     ]
    }
   ],
   "source": [
    "data_salary = BaseSalary(100000)\n",
    "\n",
    "print(data_salary.get_total_salary())\n",
    "print(data_salary.show_bonus())\n",
    "print(data_salary)"
   ]
  }
 ],
 "metadata": {
  "kernelspec": {
   "display_name": "python_course",
   "language": "python",
   "name": "python3"
  },
  "language_info": {
   "codemirror_mode": {
    "name": "ipython",
    "version": 3
   },
   "file_extension": ".py",
   "mimetype": "text/x-python",
   "name": "python",
   "nbconvert_exporter": "python",
   "pygments_lexer": "ipython3",
   "version": "3.12.4"
  }
 },
 "nbformat": 4,
 "nbformat_minor": 2
}
