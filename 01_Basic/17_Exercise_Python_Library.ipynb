{
 "cells": [
  {
   "cell_type": "markdown",
   "metadata": {},
   "source": [
    "# Exercise - Python Library - Data Cleanup\n",
    "**Problem Statement**\n",
    "\n",
    "Given a list of dictionaries, each representing a different role, where each dictionary contains a key `'job_skills'` with a string value representing a list of skills, and a `'job_date'` represented also in a string value.\n",
    "\n",
    "- Turn the `'job_date'` from a string value to a date time object.\n",
    "- Turn the `'job_skills'` from a string value to an actual list object.\n",
    "\n",
    "First we'll create a list called `data_science_jobs`, containing dictionaries. Each dictionary represents a data science job role:\n",
    "\n",
    "- `'job_title'`: The title of the job\n",
    "- `'job_skills'`: A string that represents a list of skills required\n",
    "- `'job_date'` : A string that represents a date"
   ]
  },
  {
   "cell_type": "code",
   "execution_count": 1,
   "metadata": {},
   "outputs": [],
   "source": [
    "data_science_jobs = [\n",
    "    {'job_title': 'Data Scientist', 'job_skills': \"['Python', 'SQL', 'Machine Learning']\", 'job_date': '2023-05-12'},\n",
    "    {'job_title': 'Machine Learning Engineer', 'job_skills': \"['Python', 'TensorFlow', 'Deep Learning']\", 'job_date': '2023-05-15'},\n",
    "    {'job_title': 'Data Analyst', 'job_skills': \"['SQL', 'R', 'Tableau']\", 'job_date': '2023-05-10'},\n",
    "    {'job_title': 'Business Intelligence Developer', 'job_skills': \"['SQL', 'PowerBI', 'Data Warehousing']\", 'job_date': '2023-05-08'},\n",
    "    {'job_title': 'Data Engineer', 'job_skills': \"['Python', 'Spark', 'Hadoop']\", 'job_date': '2023-05-18'},\n",
    "    {'job_title': 'AI Specialist', 'job_skills': \"['Python', 'PyTorch', 'AI Ethics']\", 'job_date': '2023-05-20'}\n",
    "]"
   ]
  },
  {
   "cell_type": "code",
   "execution_count": 4,
   "metadata": {},
   "outputs": [
    {
     "name": "stdout",
     "output_type": "stream",
     "text": [
      "{'job_title': 'Data Scientist', 'job_skills': \"['Python', 'SQL', 'Machine Learning']\", 'job_date': '2023-05-12'}\n"
     ]
    }
   ],
   "source": [
    "print(data_science_jobs[0])"
   ]
  },
  {
   "cell_type": "markdown",
   "metadata": {},
   "source": [
    "### `datetime` Conversion (`job_date`)"
   ]
  },
  {
   "cell_type": "code",
   "execution_count": 5,
   "metadata": {},
   "outputs": [
    {
     "data": {
      "text/plain": [
       "datetime.datetime(2024, 10, 31, 16, 41, 53, 900725)"
      ]
     },
     "execution_count": 5,
     "metadata": {},
     "output_type": "execute_result"
    }
   ],
   "source": [
    "from datetime import datetime\n",
    "\n",
    "# show current date and time\n",
    "datetime.now()"
   ]
  },
  {
   "cell_type": "code",
   "execution_count": 6,
   "metadata": {},
   "outputs": [
    {
     "name": "stdout",
     "output_type": "stream",
     "text": [
      "2023-05-12\n",
      "<class 'str'>\n"
     ]
    }
   ],
   "source": [
    "test_date = data_science_jobs[0]['job_date']\n",
    "\n",
    "print(test_date)\n",
    "print(type(test_date))"
   ]
  },
  {
   "cell_type": "code",
   "execution_count": null,
   "metadata": {},
   "outputs": [
    {
     "name": "stdout",
     "output_type": "stream",
     "text": [
      "2023-05-12 00:00:00\n"
     ]
    }
   ],
   "source": [
    "print(datetime.strptime(test_date, '%Y-%m-%d'))"
   ]
  },
  {
   "cell_type": "code",
   "execution_count": 9,
   "metadata": {},
   "outputs": [
    {
     "name": "stdout",
     "output_type": "stream",
     "text": [
      "[{'job_title': 'Data Scientist', 'job_skills': ['Python', 'SQL', 'Machine Learning'], 'job_date': datetime.datetime(2023, 5, 12, 0, 0)}, {'job_title': 'Machine Learning Engineer', 'job_skills': ['Python', 'TensorFlow', 'Deep Learning'], 'job_date': datetime.datetime(2023, 5, 15, 0, 0)}, {'job_title': 'Data Analyst', 'job_skills': ['SQL', 'R', 'Tableau'], 'job_date': datetime.datetime(2023, 5, 10, 0, 0)}, {'job_title': 'Business Intelligence Developer', 'job_skills': ['SQL', 'PowerBI', 'Data Warehousing'], 'job_date': datetime.datetime(2023, 5, 8, 0, 0)}, {'job_title': 'Data Engineer', 'job_skills': ['Python', 'Spark', 'Hadoop'], 'job_date': datetime.datetime(2023, 5, 18, 0, 0)}, {'job_title': 'AI Specialist', 'job_skills': ['Python', 'PyTorch', 'AI Ethics'], 'job_date': datetime.datetime(2023, 5, 20, 0, 0)}]\n"
     ]
    }
   ],
   "source": [
    "import ast\n",
    "\n",
    "for job in data_science_jobs:\n",
    "    # CONVERTING A STRING INTO DATETIME FORMAT\n",
    "    job['job_date'] = datetime.strptime(job['job_date'], '%Y-%m-%d')\n",
    "    # CONVERTING A STRING INTO A LIST ( IN THE RAW DATA, IT DIDN'T RECOGNIZE AS A LIST )\n",
    "    job['job_skills'] = ast.literal_eval(job['job_skills'])\n",
    "\n",
    "print(data_science_jobs)"
   ]
  }
 ],
 "metadata": {
  "kernelspec": {
   "display_name": "python_course",
   "language": "python",
   "name": "python3"
  },
  "language_info": {
   "codemirror_mode": {
    "name": "ipython",
    "version": 3
   },
   "file_extension": ".py",
   "mimetype": "text/x-python",
   "name": "python",
   "nbconvert_exporter": "python",
   "pygments_lexer": "ipython3",
   "version": "3.12.4"
  }
 },
 "nbformat": 4,
 "nbformat_minor": 2
}
