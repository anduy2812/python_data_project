{
 "cells": [
  {
   "cell_type": "markdown",
   "metadata": {},
   "source": [
    "# **Conditional Statements**"
   ]
  },
  {
   "cell_type": "markdown",
   "metadata": {},
   "source": [
    "### **Overview**"
   ]
  },
  {
   "cell_type": "code",
   "execution_count": 2,
   "metadata": {},
   "outputs": [
    {
     "name": "stdout",
     "output_type": "stream",
     "text": [
      "What's Up! My name is Duy\n"
     ]
    }
   ],
   "source": [
    "if True:\n",
    "    print(\"What's Up! My name is Duy\")"
   ]
  },
  {
   "cell_type": "code",
   "execution_count": 3,
   "metadata": {},
   "outputs": [
    {
     "name": "stdout",
     "output_type": "stream",
     "text": [
      "What's up! My name is Duy\n"
     ]
    }
   ],
   "source": [
    "if False:\n",
    "    print(\"Hey This is Duy\")\n",
    "else:\n",
    "    print(\"What's up! My name is Duy\")"
   ]
  },
  {
   "cell_type": "markdown",
   "metadata": {},
   "source": [
    "### **`If` Statements**"
   ]
  },
  {
   "cell_type": "code",
   "execution_count": 5,
   "metadata": {},
   "outputs": [],
   "source": [
    "# Applicant skill\n",
    "applicant_skill = 'SQL'\n",
    "\n",
    "# Skill required for job posting \n",
    "job_skill = 'SQL'\n",
    "\n",
    "# Initialize result: assigning a default value to indicate the search status for the skill.\n",
    "result = 'No Skills Match'"
   ]
  },
  {
   "cell_type": "code",
   "execution_count": 6,
   "metadata": {},
   "outputs": [
    {
     "ename": "SyntaxError",
     "evalue": "invalid syntax. Maybe you meant '==' or ':=' instead of '='? (3531373119.py, line 2)",
     "output_type": "error",
     "traceback": [
      "\u001b[1;36m  Cell \u001b[1;32mIn[6], line 2\u001b[1;36m\u001b[0m\n\u001b[1;33m    if applicant_skill = job_skill:\u001b[0m\n\u001b[1;37m       ^\u001b[0m\n\u001b[1;31mSyntaxError\u001b[0m\u001b[1;31m:\u001b[0m invalid syntax. Maybe you meant '==' or ':=' instead of '='?\n"
     ]
    }
   ],
   "source": [
    "# Check if the desired applicant skill matches the required skill for the job.\n",
    "if applicant_skill = job_skill:\n",
    "    result = 'Skills Match!'\n",
    "\n",
    "# Print the result \n",
    "result"
   ]
  },
  {
   "cell_type": "code",
   "execution_count": 7,
   "metadata": {},
   "outputs": [
    {
     "data": {
      "text/plain": [
       "'Skill Match!'"
      ]
     },
     "execution_count": 7,
     "metadata": {},
     "output_type": "execute_result"
    }
   ],
   "source": [
    "# Check if the desired applicant skill matches the required skill for the job.\n",
    "if applicant_skill == job_skill:\n",
    "    result = 'Skill Match!'\n",
    "\n",
    "# Print the result \n",
    "result"
   ]
  },
  {
   "cell_type": "markdown",
   "metadata": {},
   "source": [
    "### **`Elif` Statements**\n",
    "#### Notes\n",
    "- `Elif`: Follows an if or another elif statement. It's saying \"if the previous conditions were not true, then try this condition\". Or if the elif condition is true, its block executes."
   ]
  },
  {
   "cell_type": "code",
   "execution_count": 9,
   "metadata": {},
   "outputs": [],
   "source": [
    "# Your details\n",
    "years_experience = 3  # An integer representing how many years of experience you have "
   ]
  },
  {
   "cell_type": "code",
   "execution_count": 10,
   "metadata": {},
   "outputs": [
    {
     "data": {
      "text/plain": [
       "'Mid-level Data Analyst position.'"
      ]
     },
     "execution_count": 10,
     "metadata": {},
     "output_type": "execute_result"
    }
   ],
   "source": [
    "# Check if your desired job skill matches the required skill and what position you can apply for based on your years of experience. \n",
    "if applicant_skill == job_skill and years_experience < 2:\n",
    "    result = 'Junior Data Analyst position.'\n",
    "elif applicant_skill == job_skill and years_experience <= 5:\n",
    "    result = 'Mid-level Data Analyst position.'\n",
    "elif applicant_skill == job_skill and years_experience > 5:\n",
    "    result = 'Senior Data Analyst position.'\n",
    "\n",
    "# Print the result to see which Data Analyst position matches your qualifications\n",
    "result"
   ]
  },
  {
   "cell_type": "markdown",
   "metadata": {},
   "source": [
    "### **`Else` Statments**\n",
    "#### **Notes**\n",
    "- `Else` runs if anything before it doesn't run."
   ]
  },
  {
   "cell_type": "code",
   "execution_count": 11,
   "metadata": {},
   "outputs": [
    {
     "data": {
      "text/plain": [
       "'Skill & Experience Match'"
      ]
     },
     "execution_count": 11,
     "metadata": {},
     "output_type": "execute_result"
    }
   ],
   "source": [
    "# Check if your desired job skill matches the required skill and if you are qualified for the position. \n",
    "if applicant_skill == job_skill and (years_experience >= 2):\n",
    "    result = 'Skill & Experience Match'\n",
    "else:\n",
    "    result = 'No Match Found'\n",
    "\n",
    "# Print the result to inform you of the outcome of your job search\n",
    "result"
   ]
  },
  {
   "cell_type": "markdown",
   "metadata": {},
   "source": [
    "### `If`, `Elif`, `Else` Statements\n",
    "#### **Notes**\n",
    "- We can use `if`, `elif`, and `else` all together\n",
    "- You can also have logical operators (`and`, `or`, `not`) which are used to combine conditional statements."
   ]
  },
  {
   "cell_type": "code",
   "execution_count": 12,
   "metadata": {},
   "outputs": [
    {
     "data": {
      "text/plain": [
       "'Experience matches!'"
      ]
     },
     "execution_count": 12,
     "metadata": {},
     "output_type": "execute_result"
    }
   ],
   "source": [
    "# Check if the applicant's skill matches the required skill of the job posting and they meet the experience requirement. \n",
    "if applicant_skill != job_skill:\n",
    "    result = 'Skills still needed'\n",
    "elif applicant_skill== job_skill and years_experience < 2:\n",
    "    result = 'More experience needed'\n",
    "else:\n",
    "    result = 'Experience matches!'\n",
    "\n",
    "# Print the result\n",
    "result"
   ]
  }
 ],
 "metadata": {
  "kernelspec": {
   "display_name": "python_course",
   "language": "python",
   "name": "python3"
  },
  "language_info": {
   "codemirror_mode": {
    "name": "ipython",
    "version": 3
   },
   "file_extension": ".py",
   "mimetype": "text/x-python",
   "name": "python",
   "nbconvert_exporter": "python",
   "pygments_lexer": "ipython3",
   "version": "3.12.4"
  }
 },
 "nbformat": 4,
 "nbformat_minor": 2
}
