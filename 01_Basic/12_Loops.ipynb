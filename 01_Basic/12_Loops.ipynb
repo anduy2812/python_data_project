{
 "cells": [
  {
   "cell_type": "markdown",
   "metadata": {},
   "source": [
    "# **Loops**\n",
    "### **Overview**\n",
    "- `while` loops\n",
    "- `for` loops"
   ]
  },
  {
   "cell_type": "markdown",
   "metadata": {},
   "source": [
    "A `for` loops iterates over an iterable object."
   ]
  },
  {
   "cell_type": "code",
   "execution_count": 1,
   "metadata": {},
   "outputs": [
    {
     "name": "stdout",
     "output_type": "stream",
     "text": [
      "1\n",
      "2\n",
      "3\n",
      "4\n",
      "5\n"
     ]
    }
   ],
   "source": [
    "numbers = [1, 2, 3, 4, 5]\n",
    "for number in numbers:\n",
    "    print(number)"
   ]
  },
  {
   "cell_type": "markdown",
   "metadata": {},
   "source": [
    "A `while` loop repeats an action until a condition is no longer true."
   ]
  },
  {
   "cell_type": "code",
   "execution_count": 2,
   "metadata": {},
   "outputs": [
    {
     "name": "stdout",
     "output_type": "stream",
     "text": [
      "1\n",
      "2\n",
      "3\n",
      "4\n",
      "5\n"
     ]
    }
   ],
   "source": [
    "count = 1\n",
    "while count <= 5:\n",
    "    print(count)\n",
    "    count += 1"
   ]
  },
  {
   "cell_type": "markdown",
   "metadata": {},
   "source": [
    "### **`While` loops**\n",
    "#### Example\n",
    "Prints out all the years of experience required for the 3 data science jobs.\n",
    "\n",
    "- Initializes variables to track the total number of job positions (`total_positions`), and the current position being checked (`position_index`).\n",
    "- Uses a while loop to iterate through each job position's minimum experience requirement (`position_experience_requirements`) as long as `position_index` is less than `total_positions`.\n",
    "- Within the loop it prints out the specific number of years of experience position_experience_requirement that position requires.\n",
    "- Increments (increases) `position_index` by 1 in each loop iteration to move to the next job position. This makes sure the loop terminates after checking all positions."
   ]
  },
  {
   "cell_type": "code",
   "execution_count": 3,
   "metadata": {},
   "outputs": [],
   "source": [
    "# Total number of job positions to check\n",
    "total_positions = 3\n",
    "position_index = 0\n",
    "\n",
    "# Minimum years of experience required for each data science job position\n",
    "position_experience_requirements = [1, 3, 2]"
   ]
  },
  {
   "cell_type": "code",
   "execution_count": 4,
   "metadata": {},
   "outputs": [
    {
     "name": "stdout",
     "output_type": "stream",
     "text": [
      "Position requires 1 years of experience.\n",
      "Position requires 3 years of experience.\n",
      "Position requires 2 years of experience.\n"
     ]
    }
   ],
   "source": [
    "while position_index < total_positions:\n",
    "    print('Position requires', position_experience_requirements[position_index], 'years of experience.')\n",
    "    position_index += 1"
   ]
  },
  {
   "cell_type": "code",
   "execution_count": 6,
   "metadata": {},
   "outputs": [
    {
     "data": {
      "text/plain": [
       "2"
      ]
     },
     "execution_count": 6,
     "metadata": {},
     "output_type": "execute_result"
    }
   ],
   "source": [
    "# User's years of experience\n",
    "user_years_of_experience = 2\n",
    "\n",
    "user_years_of_experience"
   ]
  },
  {
   "cell_type": "code",
   "execution_count": 8,
   "metadata": {},
   "outputs": [],
   "source": [
    "while position_index < total_positions:\n",
    "    required_years = position_experience_requirements[position_index]\n",
    "    if user_years_of_experience >= required_years:\n",
    "        print('Qualified')\n",
    "    else:\n",
    "        print('Not Qualified')\n",
    "        position_index +=1"
   ]
  },
  {
   "cell_type": "markdown",
   "metadata": {},
   "source": [
    "### **`For` loops**\n",
    "#### **Notes**\n",
    "- A `for` loop iterates over a sequence (e.g. list, tuple, dictionary, set, or string).\n",
    "- Execute a set of statements, one `for` each item in a list, tuple, set, etc."
   ]
  },
  {
   "cell_type": "code",
   "execution_count": 9,
   "metadata": {},
   "outputs": [
    {
     "name": "stdout",
     "output_type": "stream",
     "text": [
      "Position requires 1 years of experience.\n",
      "Position requires 3 years of experience.\n",
      "Position requires 2 years of experience.\n"
     ]
    }
   ],
   "source": [
    "for x in position_experience_requirements:\n",
    "    print(f'Position requires {x} years of experience.')"
   ]
  },
  {
   "cell_type": "code",
   "execution_count": 10,
   "metadata": {},
   "outputs": [
    {
     "name": "stdout",
     "output_type": "stream",
     "text": [
      "Position 1 requires 1 years of experience.\n",
      "Position 2 requires 3 years of experience.\n",
      "Position 3 requires 2 years of experience.\n"
     ]
    }
   ],
   "source": [
    "# Enhanced example using enumerate to include the position index\n",
    "for index, years in enumerate(position_experience_requirements, start=1):\n",
    "    print(f'Position {index} requires {years} years of experience.')"
   ]
  },
  {
   "cell_type": "markdown",
   "metadata": {},
   "source": [
    "### **Nested Loops**"
   ]
  },
  {
   "cell_type": "code",
   "execution_count": 11,
   "metadata": {},
   "outputs": [
    {
     "name": "stdout",
     "output_type": "stream",
     "text": [
      "For the role of Data Scientist, you need experience in:\n",
      "  - Python\n",
      "  - SQL\n",
      "  - Machine Learning\n",
      "For the role of Machine Learning Engineer, you need experience in:\n",
      "  - Python\n",
      "  - SQL\n",
      "  - Machine Learning\n"
     ]
    }
   ],
   "source": [
    "roles = ['Data Scientist', 'Machine Learning Engineer']\n",
    "skills = ['Python', 'SQL', 'Machine Learning']\n",
    "\n",
    "for role in roles:\n",
    "    print(f'For the role of {role}, you need experience in:')\n",
    "    for skill in skills:\n",
    "        print(f'  - {skill}')"
   ]
  },
  {
   "cell_type": "markdown",
   "metadata": {},
   "source": [
    "### **Break**"
   ]
  },
  {
   "cell_type": "code",
   "execution_count": 12,
   "metadata": {},
   "outputs": [],
   "source": [
    "# For loop to check qualification for each job\n",
    "for required_experience in position_experience_requirements:\n",
    "    if user_years_of_experience >= required_experience:\n",
    "        break\n",
    "    else:\n",
    "        print('Not qualified')"
   ]
  },
  {
   "cell_type": "markdown",
   "metadata": {},
   "source": [
    "### **`range()` function**\n",
    "### **Notes**\n",
    "- `range()` runs a `for` loop a specific number of times\n",
    "- It returns a sequence of numbers, starting from 0 be default, and increments by 1 (by default), and ends at the specified number"
   ]
  },
  {
   "cell_type": "code",
   "execution_count": 13,
   "metadata": {},
   "outputs": [
    {
     "name": "stdout",
     "output_type": "stream",
     "text": [
      "0\n",
      "1\n",
      "2\n",
      "3\n"
     ]
    }
   ],
   "source": [
    "for x in range(4):\n",
    "    print(x)"
   ]
  },
  {
   "cell_type": "code",
   "execution_count": 14,
   "metadata": {},
   "outputs": [
    {
     "name": "stdout",
     "output_type": "stream",
     "text": [
      "1\n",
      "2\n",
      "3\n",
      "4\n",
      "5\n"
     ]
    }
   ],
   "source": [
    "for x in range(1,6):\n",
    "    print(x)"
   ]
  }
 ],
 "metadata": {
  "kernelspec": {
   "display_name": "python_course",
   "language": "python",
   "name": "python3"
  },
  "language_info": {
   "codemirror_mode": {
    "name": "ipython",
    "version": 3
   },
   "file_extension": ".py",
   "mimetype": "text/x-python",
   "name": "python",
   "nbconvert_exporter": "python",
   "pygments_lexer": "ipython3",
   "version": "3.12.4"
  }
 },
 "nbformat": 4,
 "nbformat_minor": 2
}
