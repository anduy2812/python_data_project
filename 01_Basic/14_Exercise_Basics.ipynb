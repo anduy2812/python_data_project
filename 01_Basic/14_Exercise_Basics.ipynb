{
 "cells": [
  {
   "cell_type": "markdown",
   "metadata": {},
   "source": [
    "# **Exercise - Basics**\n",
    "## **Topics covered**\n",
    "- Variables\n",
    "- Operators\n",
    "- Conditional Statements\n",
    "- Lists\n",
    "- Dictionaries\n",
    "- Loops\n",
    "\n",
    "## Question\n",
    "\n",
    "Write a Python script to find out what jobs you are qualified based on a set of skills. The script will evaluate a list of job roles, each associated with its own set of required skills, against the skills you have. Determine which roles you're potentially qualified for and print out these roles. If there are no roles that match your skills, print a message saying there are no matching job roles based on the provided skills."
   ]
  },
  {
   "cell_type": "code",
   "execution_count": 11,
   "metadata": {},
   "outputs": [],
   "source": [
    "job_roles = [\n",
    "    {'role': 'Data Analyst', 'skills': ['Python', 'SQL', 'Excel']},\n",
    "    {'role': 'Data Scientist', 'skills': ['Python', 'R', 'Machine Learning', 'Deep Learning']},\n",
    "    {'role': 'Machine Learning Engineer', 'skills': ['Python', 'TensorFlow', 'PyTorch', 'Scikit-Learn']},\n",
    "    {'role': 'Data Engineer', 'skills': ['Python', 'Apache Spark', 'Hadoop', 'SQL']},\n",
    "    {'role': 'Business Intelligence Analyst', 'skills': ['Python', 'SQL', 'Tableau', 'Power BI', 'Excel']},\n",
    "    {'role': 'Quantitative Analyst', 'skills': ['R', 'Python', 'MATLAB', 'Statistics']},\n",
    "    {'role': 'Operations Analyst', 'skills': ['Python', 'SQL', 'Data Visualization', 'Process Improvement']},\n",
    "    {'role': 'Database Administrator', 'skills': ['SQL', 'Oracle', 'MySQL', 'Database Management']},\n",
    "    {'role': 'AI Engineer', 'skills': ['Python', 'TensorFlow', 'PyTorch', 'Computer Vision']},\n",
    "    {'role': 'Statistician', 'skills': ['R', 'SAS', 'Python', 'Statistical Modeling']}\n",
    "]\n",
    "# My skills\n",
    "my_skills = ['Python', 'SQL', 'Excel']"
   ]
  },
  {
   "cell_type": "markdown",
   "metadata": {},
   "source": [
    "### **Using `for` loops**"
   ]
  },
  {
   "cell_type": "code",
   "execution_count": 14,
   "metadata": {},
   "outputs": [
    {
     "data": {
      "text/plain": [
       "['Data Analyst', 'Business Intelligence Analyst']"
      ]
     },
     "execution_count": 14,
     "metadata": {},
     "output_type": "execute_result"
    }
   ],
   "source": [
    "qualified_jobs = []\n",
    "\n",
    "for job in job_roles:\n",
    "    qualified = True\n",
    "\n",
    "    for skill in my_skills:\n",
    "        if skill not in job['skills']:\n",
    "            qualified = False\n",
    "            break\n",
    "\n",
    "    if qualified:\n",
    "        qualified_jobs.append(job['role'])\n",
    "\n",
    "qualified_jobs"
   ]
  },
  {
   "cell_type": "markdown",
   "metadata": {},
   "source": [
    "### **Using List comprehension**"
   ]
  },
  {
   "cell_type": "code",
   "execution_count": 18,
   "metadata": {},
   "outputs": [
    {
     "data": {
      "text/plain": [
       "['Data Analyst', 'Business Intelligence Analyst']"
      ]
     },
     "execution_count": 18,
     "metadata": {},
     "output_type": "execute_result"
    }
   ],
   "source": [
    "qualified_jobs = [job['role'] for job in job_roles if all(skill in job['skills'] for skill in my_skills)]\n",
    "qualified_jobs"
   ]
  }
 ],
 "metadata": {
  "kernelspec": {
   "display_name": "python_course",
   "language": "python",
   "name": "python3"
  },
  "language_info": {
   "codemirror_mode": {
    "name": "ipython",
    "version": 3
   },
   "file_extension": ".py",
   "mimetype": "text/x-python",
   "name": "python",
   "nbconvert_exporter": "python",
   "pygments_lexer": "ipython3",
   "version": "3.12.4"
  }
 },
 "nbformat": 4,
 "nbformat_minor": 2
}
